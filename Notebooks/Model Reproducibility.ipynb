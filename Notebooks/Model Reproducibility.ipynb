{
 "cells": [
  {
   "cell_type": "markdown",
   "id": "67179c11",
   "metadata": {},
   "source": [
    "# Model Reproducibility\n",
    "\n",
    "In this notebook I will reproduce one of the examples from the publication associated to the model and make sure the Ersilia Model Hub implementation is giving the same results.\n",
    "The test is explained in the ReadMe File"
   ]
  },
  {
   "cell_type": "markdown",
   "id": "74816d40",
   "metadata": {},
   "source": [
    "### Importing the necessary modules and define the paths required"
   ]
  },
  {
   "cell_type": "code",
   "execution_count": 1,
   "id": "cf39ab95",
   "metadata": {},
   "outputs": [],
   "source": [
    "import pandas as pd\n",
    "from sklearn.metrics import roc_curve, auc\n",
    "import matplotlib.pyplot as plt\n",
    "from rdkit import Chem\n",
    "data_file = r\"D:\\data\\testset.txt\"\n",
    "output_file = \"D:\\data\\output_data.json\"\n",
    "data_file2 = r\"D:\\data\\Table S6.xlsx\"\n",
    "output_file2 = r\"D:\\data\\outputT2.csv\" "
   ]
  },
  {
   "cell_type": "markdown",
   "id": "9a5e46bd",
   "metadata": {},
   "source": [
    "## Testing dataset"
   ]
  },
  {
   "cell_type": "markdown",
   "id": "12ce4a81",
   "metadata": {},
   "source": [
    "I first tried to reproduce the results of the testing dataset which was used by the authors."
   ]
  },
  {
   "cell_type": "code",
   "execution_count": 2,
   "id": "0ff94fd1",
   "metadata": {},
   "outputs": [],
   "source": [
    "test_df = pd.read_csv(data_file)"
   ]
  },
  {
   "cell_type": "code",
   "execution_count": 3,
   "id": "b08ebed9",
   "metadata": {
    "scrolled": false
   },
   "outputs": [
    {
     "data": {
      "text/html": [
       "<div>\n",
       "<style scoped>\n",
       "    .dataframe tbody tr th:only-of-type {\n",
       "        vertical-align: middle;\n",
       "    }\n",
       "\n",
       "    .dataframe tbody tr th {\n",
       "        vertical-align: top;\n",
       "    }\n",
       "\n",
       "    .dataframe thead th {\n",
       "        text-align: right;\n",
       "    }\n",
       "</style>\n",
       "<table border=\"1\" class=\"dataframe\">\n",
       "  <thead>\n",
       "    <tr style=\"text-align: right;\">\n",
       "      <th></th>\n",
       "      <th>SMILES</th>\n",
       "      <th>No.</th>\n",
       "      <th>Smiles</th>\n",
       "      <th>activity10</th>\n",
       "      <th>activity20</th>\n",
       "      <th>activity40</th>\n",
       "      <th>activity60</th>\n",
       "      <th>activity80</th>\n",
       "      <th>activity100</th>\n",
       "    </tr>\n",
       "  </thead>\n",
       "  <tbody>\n",
       "    <tr>\n",
       "      <th>0</th>\n",
       "      <td>O=C(c1ccncc1)N1CCC2(CCN(Cc3ccccc3OCC(F)(F)C(F)...</td>\n",
       "      <td>A1008</td>\n",
       "      <td>FC(C(COc1ccccc1CN1CCC2(CC1)CCN(CC2)C(=O)c1ccnc...</td>\n",
       "      <td>1.0</td>\n",
       "      <td>1.0</td>\n",
       "      <td>1.0</td>\n",
       "      <td>1.0</td>\n",
       "      <td>1.0</td>\n",
       "      <td>1.0</td>\n",
       "    </tr>\n",
       "    <tr>\n",
       "      <th>1</th>\n",
       "      <td>CNCc1ccc(C(F)(F)F)cc1Oc1ccc(Cl)cc1</td>\n",
       "      <td>A1009</td>\n",
       "      <td>CNCc1ccc(cc1Oc1ccc(cc1)Cl)C(F)(F)F</td>\n",
       "      <td>1.0</td>\n",
       "      <td>1.0</td>\n",
       "      <td>1.0</td>\n",
       "      <td>1.0</td>\n",
       "      <td>1.0</td>\n",
       "      <td>1.0</td>\n",
       "    </tr>\n",
       "    <tr>\n",
       "      <th>2</th>\n",
       "      <td>N#Cc1ccc2nc(C3CCC4(CC3)CN(c3ccccc3)C(=O)O4)[nH...</td>\n",
       "      <td>A101</td>\n",
       "      <td>N#Cc1ccc2c(c1)[nH]c(n2)C1CCC2(CC1)OC(=O)N(C2)c...</td>\n",
       "      <td>1.0</td>\n",
       "      <td>1.0</td>\n",
       "      <td>1.0</td>\n",
       "      <td>1.0</td>\n",
       "      <td>1.0</td>\n",
       "      <td>1.0</td>\n",
       "    </tr>\n",
       "    <tr>\n",
       "      <th>3</th>\n",
       "      <td>Cc1ccc2c(c1)CC(CCN(C)C)=C2C(C)c1cnccn1</td>\n",
       "      <td>A1010</td>\n",
       "      <td>c1cc(C)cc(c12)CC(CCN(C)C)=C2[C@@H](C)c3nccnc3</td>\n",
       "      <td>1.0</td>\n",
       "      <td>1.0</td>\n",
       "      <td>1.0</td>\n",
       "      <td>1.0</td>\n",
       "      <td>1.0</td>\n",
       "      <td>1.0</td>\n",
       "    </tr>\n",
       "    <tr>\n",
       "      <th>4</th>\n",
       "      <td>Cc1nc(C)c(-c2ccc3cc(CCN4CCCC4C)ccc3n2)s1</td>\n",
       "      <td>A1011</td>\n",
       "      <td>C1CC[C@@H](C)N1CCc(cc2)cc(c23)ccc(n3)-c4c(C)nc...</td>\n",
       "      <td>1.0</td>\n",
       "      <td>1.0</td>\n",
       "      <td>1.0</td>\n",
       "      <td>1.0</td>\n",
       "      <td>1.0</td>\n",
       "      <td>1.0</td>\n",
       "    </tr>\n",
       "  </tbody>\n",
       "</table>\n",
       "</div>"
      ],
      "text/plain": [
       "                                              SMILES    No.  \\\n",
       "0  O=C(c1ccncc1)N1CCC2(CCN(Cc3ccccc3OCC(F)(F)C(F)...  A1008   \n",
       "1                 CNCc1ccc(C(F)(F)F)cc1Oc1ccc(Cl)cc1  A1009   \n",
       "2  N#Cc1ccc2nc(C3CCC4(CC3)CN(c3ccccc3)C(=O)O4)[nH...   A101   \n",
       "3             Cc1ccc2c(c1)CC(CCN(C)C)=C2C(C)c1cnccn1  A1010   \n",
       "4           Cc1nc(C)c(-c2ccc3cc(CCN4CCCC4C)ccc3n2)s1  A1011   \n",
       "\n",
       "                                              Smiles  activity10  activity20  \\\n",
       "0  FC(C(COc1ccccc1CN1CCC2(CC1)CCN(CC2)C(=O)c1ccnc...         1.0         1.0   \n",
       "1                 CNCc1ccc(cc1Oc1ccc(cc1)Cl)C(F)(F)F         1.0         1.0   \n",
       "2  N#Cc1ccc2c(c1)[nH]c(n2)C1CCC2(CC1)OC(=O)N(C2)c...         1.0         1.0   \n",
       "3      c1cc(C)cc(c12)CC(CCN(C)C)=C2[C@@H](C)c3nccnc3         1.0         1.0   \n",
       "4  C1CC[C@@H](C)N1CCc(cc2)cc(c23)ccc(n3)-c4c(C)nc...         1.0         1.0   \n",
       "\n",
       "   activity40  activity60  activity80  activity100  \n",
       "0         1.0         1.0         1.0          1.0  \n",
       "1         1.0         1.0         1.0          1.0  \n",
       "2         1.0         1.0         1.0          1.0  \n",
       "3         1.0         1.0         1.0          1.0  \n",
       "4         1.0         1.0         1.0          1.0  "
      ]
     },
     "execution_count": 3,
     "metadata": {},
     "output_type": "execute_result"
    }
   ],
   "source": [
    "test_df.head()"
   ]
  },
  {
   "cell_type": "markdown",
   "id": "ef6c0771",
   "metadata": {},
   "source": [
    "Checking if all the smiles are valid or not"
   ]
  },
  {
   "cell_type": "code",
   "execution_count": null,
   "id": "f16ce14c",
   "metadata": {},
   "outputs": [],
   "source": [
    "def is_valid_smiles(smiles):\n",
    "    mol = Chem.MolFromSmiles(smiles)\n",
    "    return mol is not None"
   ]
  },
  {
   "cell_type": "code",
   "execution_count": null,
   "id": "e505687f",
   "metadata": {},
   "outputs": [],
   "source": [
    "valid_smiles = test_df['Smiles'].apply(is_valid_smiles)\n",
    "print(\"Are all SMILES strings valid?\", all(valid_smiles))"
   ]
  },
  {
   "cell_type": "markdown",
   "id": "075e0005",
   "metadata": {},
   "source": [
    "Removing all thc columns other than Smiles and activity10 because the model only predicts activity10 values so we only have to check if the class in activity10 matches"
   ]
  },
  {
   "cell_type": "code",
   "execution_count": 4,
   "id": "ab28c620",
   "metadata": {},
   "outputs": [],
   "source": [
    "test_df = test_df[['Smiles','activity10']]"
   ]
  },
  {
   "cell_type": "code",
   "execution_count": 5,
   "id": "a2b01214",
   "metadata": {
    "scrolled": true
   },
   "outputs": [
    {
     "data": {
      "text/plain": [
       "Smiles          0\n",
       "activity10    514\n",
       "dtype: int64"
      ]
     },
     "execution_count": 5,
     "metadata": {},
     "output_type": "execute_result"
    }
   ],
   "source": [
    "test_df.isnull().sum()"
   ]
  },
  {
   "cell_type": "markdown",
   "id": "1e2f96b5",
   "metadata": {},
   "source": [
    "### Removing the null values"
   ]
  },
  {
   "cell_type": "code",
   "execution_count": 6,
   "id": "fcd1db63",
   "metadata": {},
   "outputs": [],
   "source": [
    "test_df.dropna(inplace = True)"
   ]
  },
  {
   "cell_type": "code",
   "execution_count": 7,
   "id": "708356c0",
   "metadata": {
    "scrolled": true
   },
   "outputs": [
    {
     "data": {
      "text/plain": [
       "(781, 2)"
      ]
     },
     "execution_count": 7,
     "metadata": {},
     "output_type": "execute_result"
    }
   ],
   "source": [
    "test_df.shape"
   ]
  },
  {
   "cell_type": "markdown",
   "id": "1f7c00d8",
   "metadata": {},
   "source": [
    "Creating a seperate dataframe and csv file where only smiles are stored. This .csv file will be used to get predictions from ersilia"
   ]
  },
  {
   "cell_type": "markdown",
   "id": "a1075d5d",
   "metadata": {},
   "source": [
    "## ersilia predictions"
   ]
  },
  {
   "cell_type": "code",
   "execution_count": 8,
   "id": "f859ce62",
   "metadata": {},
   "outputs": [],
   "source": [
    "ersilia_data = test_df['Smiles']"
   ]
  },
  {
   "cell_type": "code",
   "execution_count": 9,
   "id": "952c0498",
   "metadata": {},
   "outputs": [],
   "source": [
    "ersilia_data.to_csv(\"D:\\data\\input_data.csv\")"
   ]
  },
  {
   "cell_type": "markdown",
   "id": "656bb50f",
   "metadata": {},
   "source": [
    "This file was used as input for ersilia, the results were obtained by running the following commands on command line: \n",
    "<br> ```ersilia -v fetch eos30gr```\n",
    "<br> ```ersilia serve eos30gr```\n",
    "<br>```ersilia -v api run -i input_data.csv -o output_data.json```"
   ]
  },
  {
   "cell_type": "code",
   "execution_count": 10,
   "id": "979d05dc",
   "metadata": {},
   "outputs": [],
   "source": [
    "pred = pd.read_json(output_file)"
   ]
  },
  {
   "cell_type": "code",
   "execution_count": 11,
   "id": "aef20e9d",
   "metadata": {
    "scrolled": true
   },
   "outputs": [
    {
     "data": {
      "text/html": [
       "<div>\n",
       "<style scoped>\n",
       "    .dataframe tbody tr th:only-of-type {\n",
       "        vertical-align: middle;\n",
       "    }\n",
       "\n",
       "    .dataframe tbody tr th {\n",
       "        vertical-align: top;\n",
       "    }\n",
       "\n",
       "    .dataframe thead th {\n",
       "        text-align: right;\n",
       "    }\n",
       "</style>\n",
       "<table border=\"1\" class=\"dataframe\">\n",
       "  <thead>\n",
       "    <tr style=\"text-align: right;\">\n",
       "      <th></th>\n",
       "      <th>input</th>\n",
       "      <th>output</th>\n",
       "    </tr>\n",
       "  </thead>\n",
       "  <tbody>\n",
       "    <tr>\n",
       "      <th>0</th>\n",
       "      <td>{'key': 'ZADAAHRYTRXWRE-UHFFFAOYSA-N', 'input'...</td>\n",
       "      <td>{'outcome': 0.9678217768669121}</td>\n",
       "    </tr>\n",
       "    <tr>\n",
       "      <th>1</th>\n",
       "      <td>{'key': 'OJLXPNXGJXIUAY-UHFFFAOYSA-N', 'input'...</td>\n",
       "      <td>{'outcome': 0.935643553733825}</td>\n",
       "    </tr>\n",
       "    <tr>\n",
       "      <th>2</th>\n",
       "      <td>{'key': 'VJDPCRVAZYFIDE-UHFFFAOYSA-N', 'input'...</td>\n",
       "      <td>{'outcome': 0.935643553733825}</td>\n",
       "    </tr>\n",
       "    <tr>\n",
       "      <th>3</th>\n",
       "      <td>{'key': 'OWMBYQVIMDTSAW-HNNXBMFYSA-N', 'input'...</td>\n",
       "      <td>{'outcome': 0.9653465151786801}</td>\n",
       "    </tr>\n",
       "    <tr>\n",
       "      <th>4</th>\n",
       "      <td>{'key': 'BQISWHWVPNTPCD-CQSZACIVSA-N', 'input'...</td>\n",
       "      <td>{'outcome': 0.9278877973556511}</td>\n",
       "    </tr>\n",
       "  </tbody>\n",
       "</table>\n",
       "</div>"
      ],
      "text/plain": [
       "                                               input  \\\n",
       "0  {'key': 'ZADAAHRYTRXWRE-UHFFFAOYSA-N', 'input'...   \n",
       "1  {'key': 'OJLXPNXGJXIUAY-UHFFFAOYSA-N', 'input'...   \n",
       "2  {'key': 'VJDPCRVAZYFIDE-UHFFFAOYSA-N', 'input'...   \n",
       "3  {'key': 'OWMBYQVIMDTSAW-HNNXBMFYSA-N', 'input'...   \n",
       "4  {'key': 'BQISWHWVPNTPCD-CQSZACIVSA-N', 'input'...   \n",
       "\n",
       "                            output  \n",
       "0  {'outcome': 0.9678217768669121}  \n",
       "1   {'outcome': 0.935643553733825}  \n",
       "2   {'outcome': 0.935643553733825}  \n",
       "3  {'outcome': 0.9653465151786801}  \n",
       "4  {'outcome': 0.9278877973556511}  "
      ]
     },
     "execution_count": 11,
     "metadata": {},
     "output_type": "execute_result"
    }
   ],
   "source": [
    "pred.head()"
   ]
  },
  {
   "cell_type": "code",
   "execution_count": 12,
   "id": "fac359fe",
   "metadata": {},
   "outputs": [],
   "source": [
    "pred1 = pd.json_normalize(pred['input'])\n",
    "pred2 = pd.json_normalize(pred['output'])"
   ]
  },
  {
   "cell_type": "markdown",
   "id": "ffb9dbb3",
   "metadata": {},
   "source": [
    "Merging the predictions with the input dataframe"
   ]
  },
  {
   "cell_type": "code",
   "execution_count": 14,
   "id": "2bf6ea63",
   "metadata": {},
   "outputs": [],
   "source": [
    "pred = pd.merge(pred1,pred2,left_index=True, right_index=True, how='inner')"
   ]
  },
  {
   "cell_type": "code",
   "execution_count": 15,
   "id": "8ad59806",
   "metadata": {},
   "outputs": [
    {
     "data": {
      "text/html": [
       "<div>\n",
       "<style scoped>\n",
       "    .dataframe tbody tr th:only-of-type {\n",
       "        vertical-align: middle;\n",
       "    }\n",
       "\n",
       "    .dataframe tbody tr th {\n",
       "        vertical-align: top;\n",
       "    }\n",
       "\n",
       "    .dataframe thead th {\n",
       "        text-align: right;\n",
       "    }\n",
       "</style>\n",
       "<table border=\"1\" class=\"dataframe\">\n",
       "  <thead>\n",
       "    <tr style=\"text-align: right;\">\n",
       "      <th></th>\n",
       "      <th>key</th>\n",
       "      <th>input</th>\n",
       "      <th>text</th>\n",
       "      <th>outcome</th>\n",
       "    </tr>\n",
       "  </thead>\n",
       "  <tbody>\n",
       "    <tr>\n",
       "      <th>0</th>\n",
       "      <td>ZADAAHRYTRXWRE-UHFFFAOYSA-N</td>\n",
       "      <td>FC(C(COc1ccccc1CN1CCC2(CC1)CCN(CC2)C(=O)c1ccnc...</td>\n",
       "      <td>FC(C(COc1ccccc1CN1CCC2(CC1)CCN(CC2)C(=O)c1ccnc...</td>\n",
       "      <td>0.967822</td>\n",
       "    </tr>\n",
       "    <tr>\n",
       "      <th>1</th>\n",
       "      <td>OJLXPNXGJXIUAY-UHFFFAOYSA-N</td>\n",
       "      <td>CNCc1ccc(cc1Oc1ccc(cc1)Cl)C(F)(F)F</td>\n",
       "      <td>CNCc1ccc(cc1Oc1ccc(cc1)Cl)C(F)(F)F</td>\n",
       "      <td>0.935644</td>\n",
       "    </tr>\n",
       "    <tr>\n",
       "      <th>2</th>\n",
       "      <td>VJDPCRVAZYFIDE-UHFFFAOYSA-N</td>\n",
       "      <td>N#Cc1ccc2c(c1)[nH]c(n2)C1CCC2(CC1)OC(=O)N(C2)c...</td>\n",
       "      <td>N#Cc1ccc2c(c1)[nH]c(n2)C1CCC2(CC1)OC(=O)N(C2)c...</td>\n",
       "      <td>0.935644</td>\n",
       "    </tr>\n",
       "    <tr>\n",
       "      <th>3</th>\n",
       "      <td>OWMBYQVIMDTSAW-HNNXBMFYSA-N</td>\n",
       "      <td>c1cc(C)cc(c12)CC(CCN(C)C)=C2[C@@H](C)c3nccnc3</td>\n",
       "      <td>c1cc(C)cc(c12)CC(CCN(C)C)=C2[C@@H](C)c3nccnc3</td>\n",
       "      <td>0.965347</td>\n",
       "    </tr>\n",
       "    <tr>\n",
       "      <th>4</th>\n",
       "      <td>BQISWHWVPNTPCD-CQSZACIVSA-N</td>\n",
       "      <td>C1CC[C@@H](C)N1CCc(cc2)cc(c23)ccc(n3)-c4c(C)nc...</td>\n",
       "      <td>C1CC[C@@H](C)N1CCc(cc2)cc(c23)ccc(n3)-c4c(C)nc...</td>\n",
       "      <td>0.927888</td>\n",
       "    </tr>\n",
       "  </tbody>\n",
       "</table>\n",
       "</div>"
      ],
      "text/plain": [
       "                           key  \\\n",
       "0  ZADAAHRYTRXWRE-UHFFFAOYSA-N   \n",
       "1  OJLXPNXGJXIUAY-UHFFFAOYSA-N   \n",
       "2  VJDPCRVAZYFIDE-UHFFFAOYSA-N   \n",
       "3  OWMBYQVIMDTSAW-HNNXBMFYSA-N   \n",
       "4  BQISWHWVPNTPCD-CQSZACIVSA-N   \n",
       "\n",
       "                                               input  \\\n",
       "0  FC(C(COc1ccccc1CN1CCC2(CC1)CCN(CC2)C(=O)c1ccnc...   \n",
       "1                 CNCc1ccc(cc1Oc1ccc(cc1)Cl)C(F)(F)F   \n",
       "2  N#Cc1ccc2c(c1)[nH]c(n2)C1CCC2(CC1)OC(=O)N(C2)c...   \n",
       "3      c1cc(C)cc(c12)CC(CCN(C)C)=C2[C@@H](C)c3nccnc3   \n",
       "4  C1CC[C@@H](C)N1CCc(cc2)cc(c23)ccc(n3)-c4c(C)nc...   \n",
       "\n",
       "                                                text   outcome  \n",
       "0  FC(C(COc1ccccc1CN1CCC2(CC1)CCN(CC2)C(=O)c1ccnc...  0.967822  \n",
       "1                 CNCc1ccc(cc1Oc1ccc(cc1)Cl)C(F)(F)F  0.935644  \n",
       "2  N#Cc1ccc2c(c1)[nH]c(n2)C1CCC2(CC1)OC(=O)N(C2)c...  0.935644  \n",
       "3      c1cc(C)cc(c12)CC(CCN(C)C)=C2[C@@H](C)c3nccnc3  0.965347  \n",
       "4  C1CC[C@@H](C)N1CCc(cc2)cc(c23)ccc(n3)-c4c(C)nc...  0.927888  "
      ]
     },
     "execution_count": 15,
     "metadata": {},
     "output_type": "execute_result"
    }
   ],
   "source": [
    "pred.head()"
   ]
  },
  {
   "cell_type": "code",
   "execution_count": 16,
   "id": "e7027d48",
   "metadata": {},
   "outputs": [
    {
     "data": {
      "text/plain": [
       "key        0\n",
       "input      0\n",
       "text       0\n",
       "outcome    0\n",
       "dtype: int64"
      ]
     },
     "execution_count": 16,
     "metadata": {},
     "output_type": "execute_result"
    }
   ],
   "source": [
    "pred.isnull().sum()"
   ]
  },
  {
   "cell_type": "code",
   "execution_count": 17,
   "id": "f9d2454a",
   "metadata": {},
   "outputs": [],
   "source": [
    "data = test_df.merge(pred,left_on = 'Smiles',right_on = 'input')"
   ]
  },
  {
   "cell_type": "code",
   "execution_count": 18,
   "id": "23434fc7",
   "metadata": {
    "scrolled": true
   },
   "outputs": [
    {
     "data": {
      "text/html": [
       "<div>\n",
       "<style scoped>\n",
       "    .dataframe tbody tr th:only-of-type {\n",
       "        vertical-align: middle;\n",
       "    }\n",
       "\n",
       "    .dataframe tbody tr th {\n",
       "        vertical-align: top;\n",
       "    }\n",
       "\n",
       "    .dataframe thead th {\n",
       "        text-align: right;\n",
       "    }\n",
       "</style>\n",
       "<table border=\"1\" class=\"dataframe\">\n",
       "  <thead>\n",
       "    <tr style=\"text-align: right;\">\n",
       "      <th></th>\n",
       "      <th>Smiles</th>\n",
       "      <th>activity10</th>\n",
       "      <th>key</th>\n",
       "      <th>input</th>\n",
       "      <th>text</th>\n",
       "      <th>outcome</th>\n",
       "    </tr>\n",
       "  </thead>\n",
       "  <tbody>\n",
       "    <tr>\n",
       "      <th>0</th>\n",
       "      <td>FC(C(COc1ccccc1CN1CCC2(CC1)CCN(CC2)C(=O)c1ccnc...</td>\n",
       "      <td>1.0</td>\n",
       "      <td>ZADAAHRYTRXWRE-UHFFFAOYSA-N</td>\n",
       "      <td>FC(C(COc1ccccc1CN1CCC2(CC1)CCN(CC2)C(=O)c1ccnc...</td>\n",
       "      <td>FC(C(COc1ccccc1CN1CCC2(CC1)CCN(CC2)C(=O)c1ccnc...</td>\n",
       "      <td>0.967822</td>\n",
       "    </tr>\n",
       "    <tr>\n",
       "      <th>1</th>\n",
       "      <td>CNCc1ccc(cc1Oc1ccc(cc1)Cl)C(F)(F)F</td>\n",
       "      <td>1.0</td>\n",
       "      <td>OJLXPNXGJXIUAY-UHFFFAOYSA-N</td>\n",
       "      <td>CNCc1ccc(cc1Oc1ccc(cc1)Cl)C(F)(F)F</td>\n",
       "      <td>CNCc1ccc(cc1Oc1ccc(cc1)Cl)C(F)(F)F</td>\n",
       "      <td>0.935644</td>\n",
       "    </tr>\n",
       "    <tr>\n",
       "      <th>2</th>\n",
       "      <td>N#Cc1ccc2c(c1)[nH]c(n2)C1CCC2(CC1)OC(=O)N(C2)c...</td>\n",
       "      <td>1.0</td>\n",
       "      <td>VJDPCRVAZYFIDE-UHFFFAOYSA-N</td>\n",
       "      <td>N#Cc1ccc2c(c1)[nH]c(n2)C1CCC2(CC1)OC(=O)N(C2)c...</td>\n",
       "      <td>N#Cc1ccc2c(c1)[nH]c(n2)C1CCC2(CC1)OC(=O)N(C2)c...</td>\n",
       "      <td>0.935644</td>\n",
       "    </tr>\n",
       "    <tr>\n",
       "      <th>3</th>\n",
       "      <td>c1cc(C)cc(c12)CC(CCN(C)C)=C2[C@@H](C)c3nccnc3</td>\n",
       "      <td>1.0</td>\n",
       "      <td>OWMBYQVIMDTSAW-HNNXBMFYSA-N</td>\n",
       "      <td>c1cc(C)cc(c12)CC(CCN(C)C)=C2[C@@H](C)c3nccnc3</td>\n",
       "      <td>c1cc(C)cc(c12)CC(CCN(C)C)=C2[C@@H](C)c3nccnc3</td>\n",
       "      <td>0.965347</td>\n",
       "    </tr>\n",
       "    <tr>\n",
       "      <th>4</th>\n",
       "      <td>C1CC[C@@H](C)N1CCc(cc2)cc(c23)ccc(n3)-c4c(C)nc...</td>\n",
       "      <td>1.0</td>\n",
       "      <td>BQISWHWVPNTPCD-CQSZACIVSA-N</td>\n",
       "      <td>C1CC[C@@H](C)N1CCc(cc2)cc(c23)ccc(n3)-c4c(C)nc...</td>\n",
       "      <td>C1CC[C@@H](C)N1CCc(cc2)cc(c23)ccc(n3)-c4c(C)nc...</td>\n",
       "      <td>0.927888</td>\n",
       "    </tr>\n",
       "  </tbody>\n",
       "</table>\n",
       "</div>"
      ],
      "text/plain": [
       "                                              Smiles  activity10  \\\n",
       "0  FC(C(COc1ccccc1CN1CCC2(CC1)CCN(CC2)C(=O)c1ccnc...         1.0   \n",
       "1                 CNCc1ccc(cc1Oc1ccc(cc1)Cl)C(F)(F)F         1.0   \n",
       "2  N#Cc1ccc2c(c1)[nH]c(n2)C1CCC2(CC1)OC(=O)N(C2)c...         1.0   \n",
       "3      c1cc(C)cc(c12)CC(CCN(C)C)=C2[C@@H](C)c3nccnc3         1.0   \n",
       "4  C1CC[C@@H](C)N1CCc(cc2)cc(c23)ccc(n3)-c4c(C)nc...         1.0   \n",
       "\n",
       "                           key  \\\n",
       "0  ZADAAHRYTRXWRE-UHFFFAOYSA-N   \n",
       "1  OJLXPNXGJXIUAY-UHFFFAOYSA-N   \n",
       "2  VJDPCRVAZYFIDE-UHFFFAOYSA-N   \n",
       "3  OWMBYQVIMDTSAW-HNNXBMFYSA-N   \n",
       "4  BQISWHWVPNTPCD-CQSZACIVSA-N   \n",
       "\n",
       "                                               input  \\\n",
       "0  FC(C(COc1ccccc1CN1CCC2(CC1)CCN(CC2)C(=O)c1ccnc...   \n",
       "1                 CNCc1ccc(cc1Oc1ccc(cc1)Cl)C(F)(F)F   \n",
       "2  N#Cc1ccc2c(c1)[nH]c(n2)C1CCC2(CC1)OC(=O)N(C2)c...   \n",
       "3      c1cc(C)cc(c12)CC(CCN(C)C)=C2[C@@H](C)c3nccnc3   \n",
       "4  C1CC[C@@H](C)N1CCc(cc2)cc(c23)ccc(n3)-c4c(C)nc...   \n",
       "\n",
       "                                                text   outcome  \n",
       "0  FC(C(COc1ccccc1CN1CCC2(CC1)CCN(CC2)C(=O)c1ccnc...  0.967822  \n",
       "1                 CNCc1ccc(cc1Oc1ccc(cc1)Cl)C(F)(F)F  0.935644  \n",
       "2  N#Cc1ccc2c(c1)[nH]c(n2)C1CCC2(CC1)OC(=O)N(C2)c...  0.935644  \n",
       "3      c1cc(C)cc(c12)CC(CCN(C)C)=C2[C@@H](C)c3nccnc3  0.965347  \n",
       "4  C1CC[C@@H](C)N1CCc(cc2)cc(c23)ccc(n3)-c4c(C)nc...  0.927888  "
      ]
     },
     "execution_count": 18,
     "metadata": {},
     "output_type": "execute_result"
    }
   ],
   "source": [
    "data.head()"
   ]
  },
  {
   "cell_type": "code",
   "execution_count": 19,
   "id": "dbbce4b8",
   "metadata": {},
   "outputs": [
    {
     "data": {
      "text/plain": [
       "Smiles        0\n",
       "activity10    0\n",
       "key           0\n",
       "input         0\n",
       "text          0\n",
       "outcome       0\n",
       "dtype: int64"
      ]
     },
     "execution_count": 19,
     "metadata": {},
     "output_type": "execute_result"
    }
   ],
   "source": [
    "data.isnull().sum()"
   ]
  },
  {
   "cell_type": "code",
   "execution_count": 20,
   "id": "24475dd9",
   "metadata": {},
   "outputs": [],
   "source": [
    "data.rename(columns = {'activity10':'Class','outcome':'Predicted Probability'},inplace = True)"
   ]
  },
  {
   "cell_type": "code",
   "execution_count": 21,
   "id": "ae1da4c7",
   "metadata": {},
   "outputs": [],
   "source": [
    "data = data[['Smiles','Class','Predicted Probability']]"
   ]
  },
  {
   "cell_type": "code",
   "execution_count": 22,
   "id": "fa82d06d",
   "metadata": {
    "scrolled": true
   },
   "outputs": [
    {
     "data": {
      "text/html": [
       "<div>\n",
       "<style scoped>\n",
       "    .dataframe tbody tr th:only-of-type {\n",
       "        vertical-align: middle;\n",
       "    }\n",
       "\n",
       "    .dataframe tbody tr th {\n",
       "        vertical-align: top;\n",
       "    }\n",
       "\n",
       "    .dataframe thead th {\n",
       "        text-align: right;\n",
       "    }\n",
       "</style>\n",
       "<table border=\"1\" class=\"dataframe\">\n",
       "  <thead>\n",
       "    <tr style=\"text-align: right;\">\n",
       "      <th></th>\n",
       "      <th>Smiles</th>\n",
       "      <th>Class</th>\n",
       "      <th>Predicted Probability</th>\n",
       "    </tr>\n",
       "  </thead>\n",
       "  <tbody>\n",
       "    <tr>\n",
       "      <th>0</th>\n",
       "      <td>FC(C(COc1ccccc1CN1CCC2(CC1)CCN(CC2)C(=O)c1ccnc...</td>\n",
       "      <td>1.0</td>\n",
       "      <td>0.967822</td>\n",
       "    </tr>\n",
       "    <tr>\n",
       "      <th>1</th>\n",
       "      <td>CNCc1ccc(cc1Oc1ccc(cc1)Cl)C(F)(F)F</td>\n",
       "      <td>1.0</td>\n",
       "      <td>0.935644</td>\n",
       "    </tr>\n",
       "    <tr>\n",
       "      <th>2</th>\n",
       "      <td>N#Cc1ccc2c(c1)[nH]c(n2)C1CCC2(CC1)OC(=O)N(C2)c...</td>\n",
       "      <td>1.0</td>\n",
       "      <td>0.935644</td>\n",
       "    </tr>\n",
       "    <tr>\n",
       "      <th>3</th>\n",
       "      <td>c1cc(C)cc(c12)CC(CCN(C)C)=C2[C@@H](C)c3nccnc3</td>\n",
       "      <td>1.0</td>\n",
       "      <td>0.965347</td>\n",
       "    </tr>\n",
       "    <tr>\n",
       "      <th>4</th>\n",
       "      <td>C1CC[C@@H](C)N1CCc(cc2)cc(c23)ccc(n3)-c4c(C)nc...</td>\n",
       "      <td>1.0</td>\n",
       "      <td>0.927888</td>\n",
       "    </tr>\n",
       "  </tbody>\n",
       "</table>\n",
       "</div>"
      ],
      "text/plain": [
       "                                              Smiles  Class  \\\n",
       "0  FC(C(COc1ccccc1CN1CCC2(CC1)CCN(CC2)C(=O)c1ccnc...    1.0   \n",
       "1                 CNCc1ccc(cc1Oc1ccc(cc1)Cl)C(F)(F)F    1.0   \n",
       "2  N#Cc1ccc2c(c1)[nH]c(n2)C1CCC2(CC1)OC(=O)N(C2)c...    1.0   \n",
       "3      c1cc(C)cc(c12)CC(CCN(C)C)=C2[C@@H](C)c3nccnc3    1.0   \n",
       "4  C1CC[C@@H](C)N1CCc(cc2)cc(c23)ccc(n3)-c4c(C)nc...    1.0   \n",
       "\n",
       "   Predicted Probability  \n",
       "0               0.967822  \n",
       "1               0.935644  \n",
       "2               0.935644  \n",
       "3               0.965347  \n",
       "4               0.927888  "
      ]
     },
     "execution_count": 22,
     "metadata": {},
     "output_type": "execute_result"
    }
   ],
   "source": [
    "data.head()"
   ]
  },
  {
   "cell_type": "markdown",
   "id": "f3e48457",
   "metadata": {},
   "source": [
    "Calculating the roc-auc value"
   ]
  },
  {
   "cell_type": "code",
   "execution_count": 23,
   "id": "2a876a2f",
   "metadata": {},
   "outputs": [],
   "source": [
    "fpr, tpr, thresholds = roc_curve(data['Class'], data['Predicted Probability'])"
   ]
  },
  {
   "cell_type": "code",
   "execution_count": 24,
   "id": "85f5af04",
   "metadata": {},
   "outputs": [],
   "source": [
    "auc_score = auc(fpr, tpr)"
   ]
  },
  {
   "cell_type": "code",
   "execution_count": 25,
   "id": "d7479a3f",
   "metadata": {},
   "outputs": [
    {
     "name": "stdout",
     "output_type": "stream",
     "text": [
      "AUC Score: 1.0\n"
     ]
    }
   ],
   "source": [
    "print(\"AUC Score:\", auc_score)"
   ]
  },
  {
   "cell_type": "code",
   "execution_count": 26,
   "id": "6a70a2d0",
   "metadata": {},
   "outputs": [
    {
     "data": {
      "image/png": "[encoded data removed]",
      "text/plain": [
       "<Figure size 640x480 with 1 Axes>"
      ]
     },
     "metadata": {},
     "output_type": "display_data"
    }
   ],
   "source": [
    "plt.figure()\n",
    "plt.plot(fpr, tpr, color='darkorange', lw=2, label='ROC curve (AUC = %0.2f)' % auc_score)\n",
    "plt.plot([0, 1], [0, 1], color='navy', lw=2, linestyle='--')\n",
    "plt.xlim([0.0, 1.0])\n",
    "plt.ylim([0.0, 1.05])\n",
    "plt.xlabel('False Positive Rate')\n",
    "plt.ylabel('True Positive Rate')\n",
    "plt.title('Receiver Operating Characteristic (ROC) Curve')\n",
    "plt.legend(loc=\"lower right\")\n",
    "plt.show()"
   ]
  },
  {
   "cell_type": "markdown",
   "id": "fffc0a99",
   "metadata": {},
   "source": [
    "The AUC score is 1! So the model is working perfectly on the testing dataset."
   ]
  },
  {
   "cell_type": "markdown",
   "id": "e3b91948",
   "metadata": {},
   "source": [
    "# FDA approved drugs list"
   ]
  },
  {
   "cell_type": "markdown",
   "id": "422093fd",
   "metadata": {},
   "source": [
    "SInce the model was working so perfectly on the training data, I decided to check the results on another dataset that was used by the authors. It contains 1,824 FDA-approved drugs whose probability was predicted by the authors in the paper after the model had been trained."
   ]
  },
  {
   "cell_type": "code",
   "execution_count": 50,
   "id": "18f89349",
   "metadata": {},
   "outputs": [],
   "source": [
    "df = pd.read_excel(data_file2,header = 1)"
   ]
  },
  {
   "cell_type": "code",
   "execution_count": 51,
   "id": "8216fb3c",
   "metadata": {},
   "outputs": [
    {
     "data": {
      "text/html": [
       "<div>\n",
       "<style scoped>\n",
       "    .dataframe tbody tr th:only-of-type {\n",
       "        vertical-align: middle;\n",
       "    }\n",
       "\n",
       "    .dataframe tbody tr th {\n",
       "        vertical-align: top;\n",
       "    }\n",
       "\n",
       "    .dataframe thead th {\n",
       "        text-align: right;\n",
       "    }\n",
       "</style>\n",
       "<table border=\"1\" class=\"dataframe\">\n",
       "  <thead>\n",
       "    <tr style=\"text-align: right;\">\n",
       "      <th></th>\n",
       "      <th>DrugBank ID</th>\n",
       "      <th>Smiles</th>\n",
       "      <th>Name</th>\n",
       "      <th>Predicted negative probability</th>\n",
       "      <th>Predicted positive probability</th>\n",
       "      <th>Predicted classification</th>\n",
       "    </tr>\n",
       "  </thead>\n",
       "  <tbody>\n",
       "    <tr>\n",
       "      <th>0</th>\n",
       "      <td>DB11581</td>\n",
       "      <td>Clc1ccc(cc1)C=1CC(CCC=1CN1CCN(CC1)c1cc(Oc2cc3c...</td>\n",
       "      <td>Venetoclax</td>\n",
       "      <td>0.165396</td>\n",
       "      <td>0.834604</td>\n",
       "      <td>1</td>\n",
       "    </tr>\n",
       "    <tr>\n",
       "      <th>1</th>\n",
       "      <td>DB11575</td>\n",
       "      <td>S(=O)(=O)(N=C(O)[C@@]1(N=C(O)[C@H]2N3C[C@H](Oc...</td>\n",
       "      <td>Grazoprevir</td>\n",
       "      <td>0.685339</td>\n",
       "      <td>0.314661</td>\n",
       "      <td>0</td>\n",
       "    </tr>\n",
       "    <tr>\n",
       "      <th>2</th>\n",
       "      <td>DB11574</td>\n",
       "      <td>O1c2cc(ccc2-c2n(c3c(cc(cc3)-c3nc([nH]c3)[C@H]3...</td>\n",
       "      <td>Elbasvir</td>\n",
       "      <td>0.148685</td>\n",
       "      <td>0.851315</td>\n",
       "      <td>1</td>\n",
       "    </tr>\n",
       "    <tr>\n",
       "      <th>3</th>\n",
       "      <td>DB11560</td>\n",
       "      <td>Brc1nnc(SCC(O)=O)n1-c1c2c(cccc2)c(cc1)C1CC1</td>\n",
       "      <td>Lesinurad</td>\n",
       "      <td>0.875724</td>\n",
       "      <td>0.124276</td>\n",
       "      <td>0</td>\n",
       "    </tr>\n",
       "    <tr>\n",
       "      <th>4</th>\n",
       "      <td>DB11367</td>\n",
       "      <td>S1[C@H]2N(C(C(O)=O)=C(OC)C1)C(=O)[C@H]2NC(=O)[...</td>\n",
       "      <td>Cefroxadine</td>\n",
       "      <td>0.996768</td>\n",
       "      <td>0.003232</td>\n",
       "      <td>0</td>\n",
       "    </tr>\n",
       "  </tbody>\n",
       "</table>\n",
       "</div>"
      ],
      "text/plain": [
       "  DrugBank ID                                             Smiles         Name  \\\n",
       "0     DB11581  Clc1ccc(cc1)C=1CC(CCC=1CN1CCN(CC1)c1cc(Oc2cc3c...   Venetoclax   \n",
       "1     DB11575  S(=O)(=O)(N=C(O)[C@@]1(N=C(O)[C@H]2N3C[C@H](Oc...  Grazoprevir   \n",
       "2     DB11574  O1c2cc(ccc2-c2n(c3c(cc(cc3)-c3nc([nH]c3)[C@H]3...     Elbasvir   \n",
       "3     DB11560        Brc1nnc(SCC(O)=O)n1-c1c2c(cccc2)c(cc1)C1CC1    Lesinurad   \n",
       "4     DB11367  S1[C@H]2N(C(C(O)=O)=C(OC)C1)C(=O)[C@H]2NC(=O)[...  Cefroxadine   \n",
       "\n",
       "   Predicted negative probability  Predicted positive probability  \\\n",
       "0                        0.165396                        0.834604   \n",
       "1                        0.685339                        0.314661   \n",
       "2                        0.148685                        0.851315   \n",
       "3                        0.875724                        0.124276   \n",
       "4                        0.996768                        0.003232   \n",
       "\n",
       "   Predicted classification  \n",
       "0                         1  \n",
       "1                         0  \n",
       "2                         1  \n",
       "3                         0  \n",
       "4                         0  "
      ]
     },
     "execution_count": 51,
     "metadata": {},
     "output_type": "execute_result"
    }
   ],
   "source": [
    "df.head()"
   ]
  },
  {
   "cell_type": "markdown",
   "id": "edc1885d",
   "metadata": {},
   "source": [
    "Here the predicted positive probability is the probability that was obtained by the authors when they used the models.So we wish to reproduce these results."
   ]
  },
  {
   "cell_type": "code",
   "execution_count": 52,
   "id": "69dc9189",
   "metadata": {},
   "outputs": [],
   "source": [
    "ersilia_data2 = df[['Name','Smiles']]"
   ]
  },
  {
   "cell_type": "code",
   "execution_count": 53,
   "id": "17fe3998",
   "metadata": {},
   "outputs": [],
   "source": [
    "ersilia_data2.to_csv(\"D:\\data\\InputT2.csv\")"
   ]
  },
  {
   "cell_type": "code",
   "execution_count": 54,
   "id": "19392b3d",
   "metadata": {},
   "outputs": [],
   "source": [
    "output_df = pd.read_csv(output_file2)"
   ]
  },
  {
   "cell_type": "code",
   "execution_count": 55,
   "id": "e9c8e99f",
   "metadata": {},
   "outputs": [],
   "source": [
    "df = df.merge(output_df,left_on = 'Smiles',right_on = 'input')"
   ]
  },
  {
   "cell_type": "code",
   "execution_count": 56,
   "id": "47dff562",
   "metadata": {},
   "outputs": [
    {
     "data": {
      "text/plain": [
       "(1832, 9)"
      ]
     },
     "execution_count": 56,
     "metadata": {},
     "output_type": "execute_result"
    }
   ],
   "source": [
    "df.shape"
   ]
  },
  {
   "cell_type": "code",
   "execution_count": 57,
   "id": "a55538df",
   "metadata": {
    "scrolled": true
   },
   "outputs": [
    {
     "data": {
      "text/html": [
       "<div>\n",
       "<style scoped>\n",
       "    .dataframe tbody tr th:only-of-type {\n",
       "        vertical-align: middle;\n",
       "    }\n",
       "\n",
       "    .dataframe tbody tr th {\n",
       "        vertical-align: top;\n",
       "    }\n",
       "\n",
       "    .dataframe thead th {\n",
       "        text-align: right;\n",
       "    }\n",
       "</style>\n",
       "<table border=\"1\" class=\"dataframe\">\n",
       "  <thead>\n",
       "    <tr style=\"text-align: right;\">\n",
       "      <th></th>\n",
       "      <th>DrugBank ID</th>\n",
       "      <th>Smiles</th>\n",
       "      <th>Name</th>\n",
       "      <th>Predicted negative probability</th>\n",
       "      <th>Predicted positive probability</th>\n",
       "      <th>Predicted classification</th>\n",
       "      <th>key</th>\n",
       "      <th>input</th>\n",
       "      <th>activity10</th>\n",
       "    </tr>\n",
       "  </thead>\n",
       "  <tbody>\n",
       "    <tr>\n",
       "      <th>0</th>\n",
       "      <td>DB11581</td>\n",
       "      <td>Clc1ccc(cc1)C=1CC(CCC=1CN1CCN(CC1)c1cc(Oc2cc3c...</td>\n",
       "      <td>Venetoclax</td>\n",
       "      <td>0.165396</td>\n",
       "      <td>0.834604</td>\n",
       "      <td>1</td>\n",
       "      <td>LQBVNQSMGBZMKD-UHFFFAOYSA-N</td>\n",
       "      <td>Clc1ccc(cc1)C=1CC(CCC=1CN1CCN(CC1)c1cc(Oc2cc3c...</td>\n",
       "      <td>0.440594</td>\n",
       "    </tr>\n",
       "    <tr>\n",
       "      <th>1</th>\n",
       "      <td>DB11575</td>\n",
       "      <td>S(=O)(=O)(N=C(O)[C@@]1(N=C(O)[C@H]2N3C[C@H](Oc...</td>\n",
       "      <td>Grazoprevir</td>\n",
       "      <td>0.685339</td>\n",
       "      <td>0.314661</td>\n",
       "      <td>0</td>\n",
       "      <td>OBMNJSNZOWALQB-NCQNOWPTSA-N</td>\n",
       "      <td>S(=O)(=O)(N=C(O)[C@@]1(N=C(O)[C@H]2N3C[C@H](Oc...</td>\n",
       "      <td>0.333498</td>\n",
       "    </tr>\n",
       "    <tr>\n",
       "      <th>2</th>\n",
       "      <td>DB11574</td>\n",
       "      <td>O1c2cc(ccc2-c2n(c3c(cc(cc3)-c3nc([nH]c3)[C@H]3...</td>\n",
       "      <td>Elbasvir</td>\n",
       "      <td>0.148685</td>\n",
       "      <td>0.851315</td>\n",
       "      <td>1</td>\n",
       "      <td>BVAZQCUMNICBAQ-PZHYSIFUSA-N</td>\n",
       "      <td>O1c2cc(ccc2-c2n(c3c(cc(cc3)-c3nc([nH]c3)[C@H]3...</td>\n",
       "      <td>0.351485</td>\n",
       "    </tr>\n",
       "    <tr>\n",
       "      <th>3</th>\n",
       "      <td>DB11560</td>\n",
       "      <td>Brc1nnc(SCC(O)=O)n1-c1c2c(cccc2)c(cc1)C1CC1</td>\n",
       "      <td>Lesinurad</td>\n",
       "      <td>0.875724</td>\n",
       "      <td>0.124276</td>\n",
       "      <td>0</td>\n",
       "      <td>FGQFOYHRJSUHMR-UHFFFAOYSA-N</td>\n",
       "      <td>Brc1nnc(SCC(O)=O)n1-c1c2c(cccc2)c(cc1)C1CC1</td>\n",
       "      <td>0.329208</td>\n",
       "    </tr>\n",
       "    <tr>\n",
       "      <th>4</th>\n",
       "      <td>DB11367</td>\n",
       "      <td>S1[C@H]2N(C(C(O)=O)=C(OC)C1)C(=O)[C@H]2NC(=O)[...</td>\n",
       "      <td>Cefroxadine</td>\n",
       "      <td>0.996768</td>\n",
       "      <td>0.003232</td>\n",
       "      <td>0</td>\n",
       "      <td>RDMOROXKXONCAL-UEKVPHQBSA-N</td>\n",
       "      <td>S1[C@H]2N(C(C(O)=O)=C(OC)C1)C(=O)[C@H]2NC(=O)[...</td>\n",
       "      <td>0.121040</td>\n",
       "    </tr>\n",
       "  </tbody>\n",
       "</table>\n",
       "</div>"
      ],
      "text/plain": [
       "  DrugBank ID                                             Smiles         Name  \\\n",
       "0     DB11581  Clc1ccc(cc1)C=1CC(CCC=1CN1CCN(CC1)c1cc(Oc2cc3c...   Venetoclax   \n",
       "1     DB11575  S(=O)(=O)(N=C(O)[C@@]1(N=C(O)[C@H]2N3C[C@H](Oc...  Grazoprevir   \n",
       "2     DB11574  O1c2cc(ccc2-c2n(c3c(cc(cc3)-c3nc([nH]c3)[C@H]3...     Elbasvir   \n",
       "3     DB11560        Brc1nnc(SCC(O)=O)n1-c1c2c(cccc2)c(cc1)C1CC1    Lesinurad   \n",
       "4     DB11367  S1[C@H]2N(C(C(O)=O)=C(OC)C1)C(=O)[C@H]2NC(=O)[...  Cefroxadine   \n",
       "\n",
       "   Predicted negative probability  Predicted positive probability  \\\n",
       "0                        0.165396                        0.834604   \n",
       "1                        0.685339                        0.314661   \n",
       "2                        0.148685                        0.851315   \n",
       "3                        0.875724                        0.124276   \n",
       "4                        0.996768                        0.003232   \n",
       "\n",
       "   Predicted classification                          key  \\\n",
       "0                         1  LQBVNQSMGBZMKD-UHFFFAOYSA-N   \n",
       "1                         0  OBMNJSNZOWALQB-NCQNOWPTSA-N   \n",
       "2                         1  BVAZQCUMNICBAQ-PZHYSIFUSA-N   \n",
       "3                         0  FGQFOYHRJSUHMR-UHFFFAOYSA-N   \n",
       "4                         0  RDMOROXKXONCAL-UEKVPHQBSA-N   \n",
       "\n",
       "                                               input  activity10  \n",
       "0  Clc1ccc(cc1)C=1CC(CCC=1CN1CCN(CC1)c1cc(Oc2cc3c...    0.440594  \n",
       "1  S(=O)(=O)(N=C(O)[C@@]1(N=C(O)[C@H]2N3C[C@H](Oc...    0.333498  \n",
       "2  O1c2cc(ccc2-c2n(c3c(cc(cc3)-c3nc([nH]c3)[C@H]3...    0.351485  \n",
       "3        Brc1nnc(SCC(O)=O)n1-c1c2c(cccc2)c(cc1)C1CC1    0.329208  \n",
       "4  S1[C@H]2N(C(C(O)=O)=C(OC)C1)C(=O)[C@H]2NC(=O)[...    0.121040  "
      ]
     },
     "execution_count": 57,
     "metadata": {},
     "output_type": "execute_result"
    }
   ],
   "source": [
    "df.head()"
   ]
  },
  {
   "cell_type": "code",
   "execution_count": 58,
   "id": "141189fc",
   "metadata": {},
   "outputs": [],
   "source": [
    "df = df[['Smiles','Predicted positive probability','Predicted classification','activity10']]"
   ]
  },
  {
   "cell_type": "code",
   "execution_count": 59,
   "id": "41591a4c",
   "metadata": {},
   "outputs": [],
   "source": [
    "df.rename(columns = {'Predicted positive probability':'Model Probabilities','activity10':'Ersilia Probabilities','Predicted classification':'Class'},inplace = True)"
   ]
  },
  {
   "cell_type": "code",
   "execution_count": 60,
   "id": "cafe6ed2",
   "metadata": {},
   "outputs": [
    {
     "data": {
      "text/html": [
       "<div>\n",
       "<style scoped>\n",
       "    .dataframe tbody tr th:only-of-type {\n",
       "        vertical-align: middle;\n",
       "    }\n",
       "\n",
       "    .dataframe tbody tr th {\n",
       "        vertical-align: top;\n",
       "    }\n",
       "\n",
       "    .dataframe thead th {\n",
       "        text-align: right;\n",
       "    }\n",
       "</style>\n",
       "<table border=\"1\" class=\"dataframe\">\n",
       "  <thead>\n",
       "    <tr style=\"text-align: right;\">\n",
       "      <th></th>\n",
       "      <th>Smiles</th>\n",
       "      <th>Model Probabilities</th>\n",
       "      <th>Class</th>\n",
       "      <th>Ersilia Probabilities</th>\n",
       "    </tr>\n",
       "  </thead>\n",
       "  <tbody>\n",
       "    <tr>\n",
       "      <th>0</th>\n",
       "      <td>Clc1ccc(cc1)C=1CC(CCC=1CN1CCN(CC1)c1cc(Oc2cc3c...</td>\n",
       "      <td>0.834604</td>\n",
       "      <td>1</td>\n",
       "      <td>0.440594</td>\n",
       "    </tr>\n",
       "    <tr>\n",
       "      <th>1</th>\n",
       "      <td>S(=O)(=O)(N=C(O)[C@@]1(N=C(O)[C@H]2N3C[C@H](Oc...</td>\n",
       "      <td>0.314661</td>\n",
       "      <td>0</td>\n",
       "      <td>0.333498</td>\n",
       "    </tr>\n",
       "    <tr>\n",
       "      <th>2</th>\n",
       "      <td>O1c2cc(ccc2-c2n(c3c(cc(cc3)-c3nc([nH]c3)[C@H]3...</td>\n",
       "      <td>0.851315</td>\n",
       "      <td>1</td>\n",
       "      <td>0.351485</td>\n",
       "    </tr>\n",
       "    <tr>\n",
       "      <th>3</th>\n",
       "      <td>Brc1nnc(SCC(O)=O)n1-c1c2c(cccc2)c(cc1)C1CC1</td>\n",
       "      <td>0.124276</td>\n",
       "      <td>0</td>\n",
       "      <td>0.329208</td>\n",
       "    </tr>\n",
       "    <tr>\n",
       "      <th>4</th>\n",
       "      <td>S1[C@H]2N(C(C(O)=O)=C(OC)C1)C(=O)[C@H]2NC(=O)[...</td>\n",
       "      <td>0.003232</td>\n",
       "      <td>0</td>\n",
       "      <td>0.121040</td>\n",
       "    </tr>\n",
       "  </tbody>\n",
       "</table>\n",
       "</div>"
      ],
      "text/plain": [
       "                                              Smiles  Model Probabilities  \\\n",
       "0  Clc1ccc(cc1)C=1CC(CCC=1CN1CCN(CC1)c1cc(Oc2cc3c...             0.834604   \n",
       "1  S(=O)(=O)(N=C(O)[C@@]1(N=C(O)[C@H]2N3C[C@H](Oc...             0.314661   \n",
       "2  O1c2cc(ccc2-c2n(c3c(cc(cc3)-c3nc([nH]c3)[C@H]3...             0.851315   \n",
       "3        Brc1nnc(SCC(O)=O)n1-c1c2c(cccc2)c(cc1)C1CC1             0.124276   \n",
       "4  S1[C@H]2N(C(C(O)=O)=C(OC)C1)C(=O)[C@H]2NC(=O)[...             0.003232   \n",
       "\n",
       "   Class  Ersilia Probabilities  \n",
       "0      1               0.440594  \n",
       "1      0               0.333498  \n",
       "2      1               0.351485  \n",
       "3      0               0.329208  \n",
       "4      0               0.121040  "
      ]
     },
     "execution_count": 60,
     "metadata": {},
     "output_type": "execute_result"
    }
   ],
   "source": [
    "df.head()"
   ]
  },
  {
   "cell_type": "code",
   "execution_count": 40,
   "id": "9ee21731",
   "metadata": {},
   "outputs": [
    {
     "data": {
      "text/plain": [
       "Index(['Smiles', 'Model Probabilities', 'Ersilia Probabilities'], dtype='object')"
      ]
     },
     "execution_count": 40,
     "metadata": {},
     "output_type": "execute_result"
    }
   ],
   "source": [
    "df.columns"
   ]
  },
  {
   "cell_type": "markdown",
   "id": "c5e14609",
   "metadata": {},
   "source": [
    "Plotting the scatter plot of author's probabilities vs ersilias"
   ]
  },
  {
   "cell_type": "code",
   "execution_count": 42,
   "id": "4fe6a302",
   "metadata": {
    "scrolled": true
   },
   "outputs": [
    {
     "data": {
      "image/png": "[encoded data removed]",
      "text/plain": [
       "<Figure size 640x480 with 1 Axes>"
      ]
     },
     "metadata": {},
     "output_type": "display_data"
    }
   ],
   "source": [
    "plt.scatter(df['Model Probabilities'],df['Ersilia Probabilities'],alpha=0.5)\n",
    "plt.title('Model Probabilities vs. Ersilia Probabilities')\n",
    "plt.xlabel('Model Probabilities')\n",
    "plt.ylabel('Ersilia Probabilities');"
   ]
  },
  {
   "cell_type": "markdown",
   "id": "6c487c9a",
   "metadata": {},
   "source": [
    "In this we can clearlt see that there is a lot more disparity in the results"
   ]
  },
  {
   "cell_type": "code",
   "execution_count": 43,
   "id": "feb0d381",
   "metadata": {},
   "outputs": [],
   "source": [
    "diff = df['Ersilia Probabilities'] - df['Model Probabilities'] "
   ]
  },
  {
   "cell_type": "code",
   "execution_count": 44,
   "id": "23931564",
   "metadata": {},
   "outputs": [
    {
     "data": {
      "image/png": "[encoded data removed]",
      "text/plain": [
       "<Figure size 640x480 with 1 Axes>"
      ]
     },
     "metadata": {},
     "output_type": "display_data"
    }
   ],
   "source": [
    "plt.hist(diff, bins=20, color='skyblue', edgecolor='black')\n",
    "plt.xlabel('Difference')\n",
    "plt.ylabel('Frequency')\n",
    "plt.title('Histogram of Differences')\n",
    "plt.grid(True)\n",
    "plt.show()"
   ]
  },
  {
   "cell_type": "markdown",
   "id": "f09d37a0",
   "metadata": {},
   "source": [
    "Plotting the histogram we can see that there is quite a lot of difference in the values."
   ]
  },
  {
   "cell_type": "code",
   "execution_count": 64,
   "id": "3ec767e7",
   "metadata": {},
   "outputs": [
    {
     "data": {
      "text/plain": [
       "Smiles                    0\n",
       "Model Probabilities       1\n",
       "Class                     0\n",
       "Ersilia Probabilities    97\n",
       "dtype: int64"
      ]
     },
     "execution_count": 64,
     "metadata": {},
     "output_type": "execute_result"
    }
   ],
   "source": [
    "df.isnull().sum()"
   ]
  },
  {
   "cell_type": "code",
   "execution_count": 65,
   "id": "b682f5f6",
   "metadata": {},
   "outputs": [],
   "source": [
    "df.dropna(inplace = True)"
   ]
  },
  {
   "cell_type": "markdown",
   "id": "4b24462a",
   "metadata": {},
   "source": [
    "Taking the classes predicted by authors as true classes, "
   ]
  },
  {
   "cell_type": "code",
   "execution_count": 66,
   "id": "e4dcf5e1",
   "metadata": {},
   "outputs": [],
   "source": [
    "fpr, tpr, thresholds = roc_curve(df['Class'], df['Ersilia Probabilities'])"
   ]
  },
  {
   "cell_type": "code",
   "execution_count": 67,
   "id": "b1a802c3",
   "metadata": {},
   "outputs": [],
   "source": [
    "auc_score = auc(fpr, tpr)"
   ]
  },
  {
   "cell_type": "code",
   "execution_count": 68,
   "id": "bb92dbba",
   "metadata": {},
   "outputs": [
    {
     "name": "stdout",
     "output_type": "stream",
     "text": [
      "AUC Score: 0.9034325068870523\n"
     ]
    }
   ],
   "source": [
    "print(\"AUC Score:\", auc_score)"
   ]
  },
  {
   "cell_type": "code",
   "execution_count": 69,
   "id": "8f31c2a8",
   "metadata": {},
   "outputs": [
    {
     "data": {
      "image/png": "[encoded data removed]",
      "text/plain": [
       "<Figure size 640x480 with 1 Axes>"
      ]
     },
     "metadata": {},
     "output_type": "display_data"
    }
   ],
   "source": [
    "plt.figure()\n",
    "plt.plot(fpr, tpr, color='darkorange', lw=2, label='ROC curve (AUC = %0.2f)' % auc_score)\n",
    "plt.plot([0, 1], [0, 1], color='navy', lw=2, linestyle='--')\n",
    "plt.xlim([0.0, 1.0])\n",
    "plt.ylim([0.0, 1.05])\n",
    "plt.xlabel('False Positive Rate')\n",
    "plt.ylabel('True Positive Rate')\n",
    "plt.title('Receiver Operating Characteristic (ROC) Curve')\n",
    "plt.legend(loc=\"lower right\")\n",
    "plt.show()"
   ]
  },
  {
   "cell_type": "code",
   "execution_count": null,
   "id": "b3f9d745",
   "metadata": {},
   "outputs": [],
   "source": []
  }
 ],
 "metadata": {
  "kernelspec": {
   "display_name": "Python 3 (ipykernel)",
   "language": "python",
   "name": "python3"
  },
  "language_info": {
   "codemirror_mode": {
    "name": "ipython",
    "version": 3
   },
   "file_extension": ".py",
   "mimetype": "text/x-python",
   "name": "python",
   "nbconvert_exporter": "python",
   "pygments_lexer": "ipython3",
   "version": "3.11.4"
  }
 },
 "nbformat": 4,
 "nbformat_minor": 5
}
